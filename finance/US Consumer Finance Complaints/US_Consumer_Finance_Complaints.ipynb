{
 "cells": [
  {
   "cell_type": "markdown",
   "metadata": {},
   "source": [
    "# 1. Introduction"
   ]
  },
  {
   "cell_type": "markdown",
   "metadata": {},
   "source": [
    "## CFPB Consumer Complaints EDA\n",
    "\n",
    "## 📦 About the Dataset\n",
    "\n",
    "The Consumer Financial Protection Bureau (CFPB) collects and publishes thousands of consumer complaints each week regarding financial products and services.  \n",
    "Each complaint is sent to the relevant company, and responses are tracked. By making this data public, the CFPB aims to improve transparency and accountability in the financial marketplace.\n",
    "\n",
    "- **Source:** [CFPB Consumer Complaints Database](https://www.consumerfinance.gov/data-research/consumer-complaints/)\n",
    "- **Data columns:**  \n",
    "    - Date received, product, sub-product, issue, sub-issue, company, state, response, etc.\n",
    "    - Includes text columns, categorical columns, and timestamps\n",
    "- **Typical size:** 2M+ rows\n",
    "\n",
    "---\n",
    "\n",
    "## 🎯 Project Goal\n",
    "\n",
    "**To analyze the landscape of consumer complaints in the U.S. financial sector and extract actionable insights for companies, regulators, and consumers.**\n",
    "\n",
    "### Main Objectives\n",
    "- Understand trends in complaints across time, products, and companies\n",
    "- Identify major issues and pain points faced by consumers\n",
    "- Assess company response rates and behaviors\n",
    "\n",
    "---\n",
    "\n",
    "## 🛠️ What We Do (Methods)\n",
    "\n",
    "- **Data Cleaning & Preprocessing**\n",
    "    - Handling missing/null values\n",
    "    - Standardizing product and issue names\n",
    "    - Parsing dates and categoricals\n",
    "- **Exploratory Data Analysis (EDA)**\n",
    "    - Trends over time: volume of complaints per month/year\n",
    "    - Breakdown by product, sub-product, issue, state, and company\n",
    "    - Distribution of company responses (timeliness, public statements)\n",
    "    - Visualization: bar charts, time series, heatmaps, etc.\n",
    "- **Business Insights**\n",
    "    - Detect which products/companies have the most issues\n",
    "    - Find common root causes of complaints\n",
    "    - Compare top-performing and underperforming companies\n",
    "\n",
    "---\n",
    "\n",
    "## 🔍 Key Questions & Insights\n",
    "\n",
    "- Which financial products generate the most consumer complaints?\n",
    "- What are the most common issues and sub-issues?\n",
    "- Which companies have the highest volume of complaints?\n",
    "- How do response rates and response types differ across companies?\n",
    "- Are there geographic (state-level) patterns in complaint volume or issues?\n",
    "- Has the complaint volume increased/decreased over time?\n",
    "\n",
    "---\n",
    "\n",
    "## 📊 Possible KPIs (Key Performance Indicators)\n",
    "\n",
    "- **Total Complaints per Product/Company**\n",
    "- **Percentage of Timely Responses**\n",
    "- **Average Response Time** (if timestamp data is available)\n",
    "- **Complaint Resolution Rate** (if status available)\n",
    "- **Top Issues by Frequency**\n",
    "- **Null/Missing Data Rate** per critical column\n",
    "\n",
    "---\n",
    "\n",
    "## 💡 Expected Outcomes\n",
    "\n",
    "- **Actionable recommendations** for financial companies to improve service\n",
    "- **Transparency** for consumers on which companies/products have most complaints\n",
    "- **Regulatory insights** to help prioritize oversight and policy\n",
    "\n",
    "---\n",
    "\n",
    "## 📝 Author\n",
    "\n",
    "Minhyeok Son  \n",
    "[LinkedIn](hwww.linkedin.com/in/minhyeokson) | [GitHub](https://github.com/Shawn-Son)\n",
    "\n",
    "---"
   ]
  },
  {
   "cell_type": "markdown",
   "metadata": {},
   "source": [
    "# 2.Data Loading"
   ]
  },
  {
   "cell_type": "code",
   "execution_count": 5,
   "metadata": {},
   "outputs": [],
   "source": [
    "import pandas as pd\n",
    "import numpy as np\n",
    "import matplotlib.pyplot as plt\n",
    "import seaborn as sns"
   ]
  },
  {
   "cell_type": "code",
   "execution_count": 6,
   "metadata": {},
   "outputs": [
    {
     "name": "stderr",
     "output_type": "stream",
     "text": [
      "/var/folders/vs/dy5n5y354mz0k83z44gbr5ph0000gn/T/ipykernel_45028/182790902.py:1: DtypeWarning: Columns (5,11) have mixed types. Specify dtype option on import or set low_memory=False.\n",
      "  df = pd.read_csv('../../Datasets/finance/consumer_complaints.csv')\n"
     ]
    }
   ],
   "source": [
    "df = pd.read_csv('../../Datasets/finance/consumer_complaints.csv')"
   ]
  },
  {
   "cell_type": "markdown",
   "metadata": {},
   "source": [
    "# 3."
   ]
  },
  {
   "cell_type": "code",
   "execution_count": null,
   "metadata": {},
   "outputs": [],
   "source": [
    "df.head()"
   ]
  }
 ],
 "metadata": {
  "kernelspec": {
   "display_name": "Python (EDA practice)",
   "language": "python",
   "name": "eda-practice"
  },
  "language_info": {
   "codemirror_mode": {
    "name": "ipython",
    "version": 3
   },
   "file_extension": ".py",
   "mimetype": "text/x-python",
   "name": "python",
   "nbconvert_exporter": "python",
   "pygments_lexer": "ipython3",
   "version": "3.13.3"
  }
 },
 "nbformat": 4,
 "nbformat_minor": 2
}
